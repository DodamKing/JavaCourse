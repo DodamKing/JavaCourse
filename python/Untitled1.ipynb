{
 "cells": [
  {
   "cell_type": "code",
   "execution_count": 1,
   "id": "67879f99",
   "metadata": {},
   "outputs": [],
   "source": [
    "# 양의 정수를 입력 받아, 입력 받은 수의 절반부터 입력 받은 수까지 5항씩의 합"
   ]
  },
  {
   "cell_type": "code",
   "execution_count": 15,
   "id": "49d31ae2",
   "metadata": {},
   "outputs": [
    {
     "name": "stdout",
     "output_type": "stream",
     "text": [
      "입력: 20\n",
      "65\n",
      "90\n"
     ]
    }
   ],
   "source": [
    "n = int(input('입력: '))\n",
    "sum = 0\n",
    "cnt = 0\n",
    "\n",
    "for i in range(int(n/2)+1, n+1):\n",
    "    sum += i\n",
    "    cnt += 1\n",
    "    if cnt % 5 == 0:\n",
    "        print(sum)\n",
    "        sum = 0\n",
    "    "
   ]
  },
  {
   "cell_type": "code",
   "execution_count": 12,
   "id": "df5cf4bf",
   "metadata": {},
   "outputs": [
    {
     "data": {
      "text/plain": [
       "40"
      ]
     },
     "execution_count": 12,
     "metadata": {},
     "output_type": "execute_result"
    }
   ],
   "source": [
    "6+7+8+9+10"
   ]
  }
 ],
 "metadata": {
  "kernelspec": {
   "display_name": "Python 3",
   "language": "python",
   "name": "python3"
  },
  "language_info": {
   "codemirror_mode": {
    "name": "ipython",
    "version": 3
   },
   "file_extension": ".py",
   "mimetype": "text/x-python",
   "name": "python",
   "nbconvert_exporter": "python",
   "pygments_lexer": "ipython3",
   "version": "3.8.8"
  }
 },
 "nbformat": 4,
 "nbformat_minor": 5
}
