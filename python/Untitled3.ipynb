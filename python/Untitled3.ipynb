{
 "cells": [
  {
   "cell_type": "code",
   "execution_count": 22,
   "id": "0f820abe",
   "metadata": {},
   "outputs": [
    {
     "name": "stdout",
     "output_type": "stream",
     "text": [
      "검색어를 입력하세요: 코로나\n"
     ]
    }
   ],
   "source": [
    "import requests\n",
    "from bs4 import BeautifulSoup as bs\n",
    "\n",
    "url = 'https://search.naver.com/search.naver?where=news&sm=tab_jum&query='\n",
    "query = input('검색어를 입력하세요: ')\n",
    "html = requests.get(url + query)\n",
    "soup = bs(html.text, 'html.parser')"
   ]
  },
  {
   "cell_type": "code",
   "execution_count": 23,
   "id": "f92765af",
   "metadata": {},
   "outputs": [],
   "source": [
    "title_list = []\n",
    "url_list = []\n",
    "\n",
    "title = soup.select('div.news_area a.news_tit')\n",
    "\n",
    "for i in range (10):\n",
    "    title_list.append(title[i].text)\n",
    "    url_list.append(title[i].get('href'))"
   ]
  },
  {
   "cell_type": "code",
   "execution_count": 24,
   "id": "1930870b",
   "metadata": {},
   "outputs": [],
   "source": [
    "with open(query + '.txt', 'w', encoding='utf-8') as f:\n",
    "    for i in range(10):\n",
    "        f.write(title_list[i] + ' : ' + url_list[i] + '\\n')\n",
    "f.close()"
   ]
  }
 ],
 "metadata": {
  "kernelspec": {
   "display_name": "Python 3",
   "language": "python",
   "name": "python3"
  },
  "language_info": {
   "codemirror_mode": {
    "name": "ipython",
    "version": 3
   },
   "file_extension": ".py",
   "mimetype": "text/x-python",
   "name": "python",
   "nbconvert_exporter": "python",
   "pygments_lexer": "ipython3",
   "version": "3.8.8"
  }
 },
 "nbformat": 4,
 "nbformat_minor": 5
}
