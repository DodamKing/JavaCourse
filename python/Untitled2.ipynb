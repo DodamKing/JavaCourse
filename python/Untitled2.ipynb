{
 "cells": [
  {
   "cell_type": "code",
   "execution_count": 38,
   "id": "c4424931",
   "metadata": {},
   "outputs": [
    {
     "name": "stdout",
     "output_type": "stream",
     "text": [
      "검색어를 입력하세요: 올림픽\n"
     ]
    }
   ],
   "source": [
    "import requests\n",
    "\n",
    "url = 'https://search.naver.com/search.naver?where=nexearch&sm=top_hty&fbm=1&ie=utf8&query='\n",
    "query = input('검색어를 입력하세요: ')\n",
    "srch = url + query\n",
    "html = requests.get(srch)"
   ]
  },
  {
   "cell_type": "code",
   "execution_count": 39,
   "id": "61d9d28e",
   "metadata": {},
   "outputs": [],
   "source": [
    "data = html.text\n",
    "\n",
    "f = open(query + '.txt', 'w', encoding='utf-8')\n",
    "f.write(data)\n",
    "f.close()"
   ]
  },
  {
   "cell_type": "code",
   "execution_count": 20,
   "id": "012682e6",
   "metadata": {},
   "outputs": [
    {
     "data": {
      "text/plain": [
       "('img.png', <http.client.HTTPMessage at 0x29c9f92dd60>)"
      ]
     },
     "execution_count": 20,
     "metadata": {},
     "output_type": "execute_result"
    }
   ],
   "source": [
    "import urllib.request\n",
    "\n",
    "src_url = 'https://img6.yna.co.kr/photo/yna/YH/2022/02/14/PYH2022021422030001300_P4.jpg'\n",
    "new_src = 'img.png'\n",
    "\n",
    "urllib.request.urlretrieve(src_url, new_src)"
   ]
  },
  {
   "cell_type": "code",
   "execution_count": 37,
   "id": "431ba95d",
   "metadata": {},
   "outputs": [
    {
     "data": {
      "text/plain": [
       "'http://newsstand.naver.com/'"
      ]
     },
     "execution_count": 37,
     "metadata": {},
     "output_type": "execute_result"
    }
   ],
   "source": [
    "from bs4 import BeautifulSoup as bs\n",
    "url = 'https://naver.com'\n",
    "html = requests.get(url)\n",
    "soup = bs(html.text, 'html.parser')\n",
    "soup.select('div#NM_NEWSSTAND_TITLE a.link_newsstand')[0].get('href')"
   ]
  }
 ],
 "metadata": {
  "kernelspec": {
   "display_name": "Python 3",
   "language": "python",
   "name": "python3"
  },
  "language_info": {
   "codemirror_mode": {
    "name": "ipython",
    "version": 3
   },
   "file_extension": ".py",
   "mimetype": "text/x-python",
   "name": "python",
   "nbconvert_exporter": "python",
   "pygments_lexer": "ipython3",
   "version": "3.8.8"
  }
 },
 "nbformat": 4,
 "nbformat_minor": 5
}
